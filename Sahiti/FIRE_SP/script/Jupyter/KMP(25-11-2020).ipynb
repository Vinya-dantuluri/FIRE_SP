{
 "cells": [
  {
   "cell_type": "markdown",
   "metadata": {},
   "source": [
    "## Importing Packages"
   ]
  },
  {
   "cell_type": "code",
   "execution_count": 2,
   "metadata": {},
   "outputs": [],
   "source": [
    "\n",
    "import pandas as pd\n",
    "from pandas import DataFrame\n",
    "import re\n",
    "import os.path\n",
    "from time import strptime\n",
    "from datetime import datetime\n",
    "import logging\n"
   ]
  },
  {
   "cell_type": "markdown",
   "metadata": {},
   "source": [
    "## Log File"
   ]
  },
  {
   "cell_type": "code",
   "execution_count": 3,
   "metadata": {},
   "outputs": [],
   "source": [
    "#log file#\n",
    "path1 = r\"D:\\FSP\\FPS Client 0211\\FPS Client\\Project_FIRE-SP\"\n",
    "if os.path.isfile(\"info.log\"):\n",
    "    os.remove(r\"D:\\FSP\\FPS Client 0211\\FPS Client\\Project_FIRE-SP\\info.log\")\n",
    "    logging.basicConfig(filename=r\"D:\\FSP\\FPS Client 0211\\FPS Client\\Project_FIRE-SP\\info.log\", format='%(asctime)s %(message)s', filemode='w') \n",
    "    logger=logging.getLogger() \n",
    "    logger.setLevel(logging.DEBUG) \n",
    "else:\n",
    "    logging.basicConfig(filename=r\"D:\\FSP\\FPS Client 0211\\FPS Client\\Project_FIRE-SP\\info.log\", format='%(asctime)s %(message)s', filemode='w') \n",
    "    logger=logging.getLogger() \n",
    "    logger.setLevel(logging.DEBUG) \n"
   ]
  },
  {
   "cell_type": "markdown",
   "metadata": {},
   "source": [
    "## Reading Source Files"
   ]
  },
  {
   "cell_type": "code",
   "execution_count": 4,
   "metadata": {},
   "outputs": [],
   "source": [
    "try:\n",
    "    logger.info(\"File are Processing.....\")\n",
    "    #KMP Importing Data\n",
    "    KMP_data = pd.ExcelFile(r'D:\\FSP\\FPS Client 0211\\FPS Client\\Project_FIRE-SP\\Source\\KMP Data.xlsx')\n",
    "    #Metadata\n",
    "    Metadata = pd.read_excel(r'D:\\FSP\\Output.xlsx')\n",
    "    #Vista\n",
    "    VISTA_data=pd.ExcelFile(r'D:\\FSP\\FPS Client 0211\\FPS Client\\Source Files\\vistafile.xlsx')\n",
    "    logger.info(\"All the files Processed...\")\n",
    "except Exception as e:\n",
    "    logger.error(\"Error occured while proccessing the Files.... %s\" %e)"
   ]
  },
  {
   "cell_type": "markdown",
   "metadata": {},
   "source": [
    "# IGNORE LIST IN KMP"
   ]
  },
  {
   "cell_type": "code",
   "execution_count": 30,
   "metadata": {},
   "outputs": [],
   "source": [
    "ignore_list=pd.read_excel(r'D:\\FSP\\ignorelist.xlsx')\n",
    "ignore_list.to_csv(r'D:\\FSP\\FPS Client 0211\\FPS Client\\Project_FIRE-SP\\Target\\KMP\\IGNORELIST.csv')\n",
    "ignore_list = ignore_list['IGNORE LIST'].values.tolist()"
   ]
  },
  {
   "cell_type": "markdown",
   "metadata": {},
   "source": [
    "## Function returns mapped customer code between KMP and Vista"
   ]
  },
  {
   "cell_type": "code",
   "execution_count": 6,
   "metadata": {},
   "outputs": [],
   "source": [
    "\n",
    "def Mapping(df,dic):\n",
    "    new_var =[]\n",
    "#     print(df['Customer'])\n",
    "    for i in df['Customer']:\n",
    "#         print(i)\n",
    "        if i in dic.keys():\n",
    "            new_var.append(dic[i])\n",
    "        else:\n",
    "            new_var.append('NA')\n",
    "    return new_var\n",
    "\n",
    "################## List of unmatched customer code from vista file ##################\n"
   ]
  },
  {
   "cell_type": "markdown",
   "metadata": {},
   "source": [
    "## Function returns un mapped customer code between KMP and Vista"
   ]
  },
  {
   "cell_type": "code",
   "execution_count": 7,
   "metadata": {},
   "outputs": [],
   "source": [
    "\n",
    "def unMatched(df,dic):\n",
    "    unmatched =[]\n",
    "#     print(df['Customer'])\n",
    "    for i in df['Customer']:\n",
    "#         print(i)\n",
    "        if i in dic:\n",
    "#             print(i)\n",
    "            unmatched.append('NA')\n",
    "        else:\n",
    "            unmatched.append(i)\n",
    "    return unmatched\n"
   ]
  },
  {
   "cell_type": "markdown",
   "metadata": {},
   "source": [
    "## Returns Description,Pricing"
   ]
  },
  {
   "cell_type": "code",
   "execution_count": 22,
   "metadata": {},
   "outputs": [],
   "source": [
    "\n",
    "def KMP_TraF(KMP_CL,KMP_CT):\n",
    "    try:\n",
    "        logger.info(\"Processing of Description,Pricing to 0 columns  started!!!\")\n",
    "        join=pd.merge(KMP_CL,KMP_CT,how='inner',left_on='ContractNumber',right_on='ContractNumber')\n",
    "        KMP_CL=join.drop(columns={'ContractType','CustomerCode','Locations','ContractStatus','ContractEnd','ContractTerm','ContractValue','ContractNotes'})\n",
    "        x=KMP_CL.rename(columns={'CustomerName_y': 'CustomerName'})\n",
    "        output = pd.DataFrame(columns=list(Metadata['Output File1']))\n",
    "        output['Description']=x['ContractDescription']+\"-\"+x['CustomerName']\n",
    "        output[['Alt Agreement','Agreement Type (For Entry)','Date1','Agreement Type (Data Pull)','Customer','Service Site','Original Date']] = x[['ContractNumber','Alt','Description','Address2','CustomerName','Address1','ContractStart']]\n",
    "        output['Expiration Date']='01/01/2022'\n",
    "        output['Effective Date']=output['Original Date']\n",
    "        output['Effective Date']=output['Effective Date'].map(lambda x: x.replace(year=2021))\n",
    "        DateColumns=list(Metadata['Output File1'])\n",
    "        for i in DateColumns:\n",
    "            if str(i).find('Date') != -1:\n",
    "                output[i]= output[i].fillna('01/01/2020')\n",
    "                output[i]=  pd.to_datetime(output[i], errors='coerce').dt.strftime('%m/%d/%Y')\n",
    "            elif str(i).find('Pricing') != -1:\n",
    "                output[i]=output['Pricing'].fillna('0')\n",
    "        \n",
    "        try:\n",
    "            logger.info(\"Reading vista file for matching Customer code with KMP File Started!!\")\n",
    "            CT_ED_Dic = dict(zip(Vista['Name'].str.upper(), Vista['Customer']))\n",
    "            output['Customer'] = Mapping(output,CT_ED_Dic)\n",
    "            #output['UnMatched']=unMatched(output,CT_ED_Dic)\n",
    "            #output['Customer']=output['Customer1']\n",
    "            logger.info(\"Successfully matched Customer code in InActive AceesDB file\")\n",
    "            return output\n",
    "        except Exception as e:\n",
    "            logger.error(\"error occured while Updating Customer code from vista file %s\" %e)\n",
    "    except Exception as e:\n",
    "        logger.error(\"Error occured while processing of Description,Pricing to 0 columns!!!! %s!\" %e)\n",
    "\n"
   ]
  },
  {
   "cell_type": "markdown",
   "metadata": {},
   "source": [
    "## Returns Alt Agrrement and Date Columns"
   ]
  },
  {
   "cell_type": "code",
   "execution_count": 23,
   "metadata": {},
   "outputs": [],
   "source": [
    "\n",
    "def KMP_Mapping(KMP_CL,Metadata,Vista,KMP_CT):\n",
    "    try:\n",
    "        logger.info(\"Processing of KMP_OCH and Non_OCH data started!!!\")\n",
    "        temp4 = KMP_CL[['Jan','Feb', 'Mar', 'Apr', 'May', 'Jun', 'Jul', 'Aug', 'Sep', 'Oct', 'Nov','Dec']]\n",
    "        temp4 = temp4.fillna(0)\n",
    "        temp4 = temp4.astype(str).apply(lambda x : x+'-'+x.name)\n",
    "        temp4 = temp4.values.tolist()\n",
    "        temp5 =[]\n",
    "        try:\n",
    "            logger.info(\"Processing of Alt Agrrement and Date1 columns started!!!\")\n",
    "            for i in temp4:\n",
    "                temp5.append(','.join(map(str,[incom for incom in i if '0' not in incom])))\n",
    "   \n",
    "            KMP_CL['Des'] = temp5\n",
    "            KMP_CL = KMP_CL.reset_index(drop=True)\n",
    "            KMP_CL= KMP_CL[KMP_CL['Des'] != '']\n",
    "            KMP_CL['Des'] = KMP_CL[\"Des\"].str.split(',')\n",
    "            KMP_CL=(KMP_CL\n",
    "             .set_index(['ContractNumber','CustomerName','Address1','Address2'])['Des']\n",
    "             .apply(pd.Series)\n",
    "             .stack()\n",
    "             .reset_index()\n",
    "             .drop('level_4', axis=1)\n",
    "             .rename(columns={0:'Description'}))\n",
    "   \n",
    "            KMP_CL1 = KMP_CL[\"Description\"].str.split('-').str[1]\n",
    "            KMP_CL2 = KMP_CL[\"Description\"].str.split('-').str[0]\n",
    "            var = []\n",
    "            for i in KMP_CL1:\n",
    "                var.append(str(strptime(i,'%b').tm_mon) + \"/01/2020\")\n",
    "            KMP_CL['Description'] = var\n",
    "            var = []\n",
    "            for i in KMP_CL2:\n",
    "                var.append(str(i))\n",
    "            KMP_CL['Alt'] = var\n",
    "            output = KMP_TraF(KMP_CL,KMP_CT)\n",
    "            logger.info(\"Succesfully Processed Alt Agrrement and Date1 columns!!!\")\n",
    "            return output\n",
    "        except Exception as e:\n",
    "            logger.error(\"Error occured while processing of Alt Agrrement and Date1 column started!!! %s\" %e)\n",
    "    except:\n",
    "        logger.error(\"Error occured while processing data for KMP OCH and Non_OCH!! %s\" %e)\n",
    "\n"
   ]
  },
  {
   "cell_type": "code",
   "execution_count": null,
   "metadata": {},
   "outputs": [],
   "source": []
  },
  {
   "cell_type": "markdown",
   "metadata": {},
   "source": [
    "## KMP Active NON OCH Export"
   ]
  },
  {
   "cell_type": "code",
   "execution_count": 27,
   "metadata": {},
   "outputs": [],
   "source": [
    "try:\n",
    "    logger.info(\"Exporting of KMP Active NON OCH file Started!!\")\n",
    "    logger.info(\"Exporting of KMP Active NON OCH file Started!!\")\n",
    "    KMP_CL = pd.read_excel(KMP_data, sheet_name='Contract Lines')\n",
    "    KMP_CL['Address2'] = KMP_CL['Address2'].str.replace(\"BUILDING CODE:| \", '')\n",
    "    KMP_CL = KMP_CL[(KMP_CL['ContractStatus'] != 'IN')&(KMP_CL['CustomerName'] !='OTTAWA COMMUNITY HOUSING')&~(KMP_CL['CustomerName'].isin(ignore_list))]\n",
    "    KMP_CT = pd.read_excel(KMP_data, sheet_name='Contracts')\n",
    "    Vista =  pd.read_excel(VISTA_data,sheet_name='Sheet1')\n",
    "    output = KMP_Mapping(KMP_CL,Metadata,Vista,KMP_CT)\n",
    "    output.to_csv(r'D:\\FSP\\FPS Client 0211\\FPS Client\\Project_FIRE-SP\\Target\\KMP\\KMP_NON_OCH.csv' , index=False)\n",
    "    logger.info(\"Succesfully Exported KMP Active OCH file Started!!\")\n",
    "except Exception as e:\n",
    "    logger.error(\" Error occured while Exporting of KMP Active NON OCH file!! %s\" %e)\n",
    "\n"
   ]
  },
  {
   "cell_type": "markdown",
   "metadata": {},
   "source": [
    "## KMP Active  OCH Export"
   ]
  },
  {
   "cell_type": "code",
   "execution_count": 25,
   "metadata": {},
   "outputs": [],
   "source": [
    "try:\n",
    "    logger.info(\"Exporting of KMP Active OCH file Started!!\")\n",
    "    KMP_CL = pd.read_excel(KMP_data, sheet_name='Contract Lines')\n",
    "    KMP_CL['Address2'] = KMP_CL['Address2'].str.replace(\"BUILDING CODE:| \", '')\n",
    "    KMP_CL = KMP_CL[(KMP_CL['ContractStatus'] != 'IN')&(KMP_CL['CustomerName'] =='OTTAWA COMMUNITY HOUSING')&(KMP_CL['ContractNumber']!='NON-CONTRACT')]\n",
    "\n",
    "    KMP_CT = pd.read_excel(KMP_data, sheet_name='Contracts')\n",
    "    Vista =  pd.read_excel(VISTA_data,sheet_name='Sheet1')\n",
    "    output = KMP_Mapping(KMP_CL,Metadata,Vista,KMP_CT)\n",
    "    output['Customer'] = output['Alt Agreement'].apply(lambda x: '100051' if x == '0-100013' else '100052')\n",
    "    output.to_csv(r'D:\\FSP\\FPS Client 0211\\FPS Client\\Project_FIRE-SP\\Target\\KMP\\KMP_OCH.csv' , index=False)\n",
    "    logger.info(\"Succesfully Exported KMP Active OCH file Started!!\")\n",
    "except Exception as e:\n",
    "    logger.error(\" Error occured while Exporting of KMP Active OCH file!! %s\" %e)\n"
   ]
  },
  {
   "cell_type": "markdown",
   "metadata": {},
   "source": [
    "## KMP InActive Export"
   ]
  },
  {
   "cell_type": "code",
   "execution_count": 26,
   "metadata": {},
   "outputs": [],
   "source": [
    "\n",
    "try:\n",
    "    logger.info(\"Exporting of KMP InActive OCH file Started!!\")\n",
    "    KMP_CL = pd.read_excel(KMP_data, sheet_name='Contract Lines')\n",
    "    KMP_CL['Address2'] = KMP_CL['Address2'].str.replace('BUILDING CODE:| ', '')\n",
    "    KMP_CL = KMP_CL[(KMP_CL['ContractStatus'] == 'IN') | (KMP_CL['ContractNumber']=='NON-CONTRACT')]\n",
    "    KMP_CL = KMP_CL[~(KMP_CL['CustomerName'].isin(ignore_list))]\n",
    "    #KMP_CL.to_csv(r'D:\\FSP\\FPS Client 0211\\FPS Client\\Project_FIRE-SP\\Target\\KMP\\KMP_NON_OCHtest.csv' , index=False)\n",
    "    KMP_CT = pd.read_excel(KMP_data, sheet_name='Contracts')\n",
    "    VISTA =  pd.read_excel(VISTA_data,sheet_name='Sheet1')\n",
    "    output=KMP_Mapping(KMP_CL,Metadata,Vista,KMP_CT)\n",
    "    output.to_csv(r'D:\\FSP\\FPS Client 0211\\FPS Client\\Project_FIRE-SP\\Target\\KMP\\KMP_InActive.csv' , index=False)\n",
    "    logger.info(\" Succesfully Exported KMP InActive OCH file Started!!\")\n",
    "except Exception as e:\n",
    "    logger.error(\"Error occured while Exporting of KMP InActive OCH file!! %s\" %e)"
   ]
  },
  {
   "cell_type": "code",
   "execution_count": null,
   "metadata": {},
   "outputs": [],
   "source": []
  }
 ],
 "metadata": {
  "kernelspec": {
   "display_name": "Python 3",
   "language": "python",
   "name": "python3"
  },
  "language_info": {
   "codemirror_mode": {
    "name": "ipython",
    "version": 3
   },
   "file_extension": ".py",
   "mimetype": "text/x-python",
   "name": "python",
   "nbconvert_exporter": "python",
   "pygments_lexer": "ipython3",
   "version": "3.7.6"
  }
 },
 "nbformat": 4,
 "nbformat_minor": 2
}
