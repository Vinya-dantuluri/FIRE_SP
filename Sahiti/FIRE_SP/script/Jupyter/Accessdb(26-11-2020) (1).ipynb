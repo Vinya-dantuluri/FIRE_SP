{
 "cells": [
  {
   "cell_type": "markdown",
   "metadata": {},
   "source": [
    "## Importing packages"
   ]
  },
  {
   "cell_type": "code",
   "execution_count": 39,
   "metadata": {},
   "outputs": [],
   "source": [
    "#Importing Packages\n",
    "import pandas as pd\n",
    "import re\n",
    "import os.path\n",
    "from time import strptime\n",
    "from datetime import datetime, timedelta\n",
    "import logging\n",
    "\n"
   ]
  },
  {
   "cell_type": "markdown",
   "metadata": {},
   "source": [
    "## Log File"
   ]
  },
  {
   "cell_type": "code",
   "execution_count": 40,
   "metadata": {},
   "outputs": [],
   "source": [
    "\n",
    "#log file#    \n",
    "path = r\"D:\\FSP\\FPS Client 0211\\FPS Client\\Project_FIRE-SP\"\n",
    "if os.path.isfile(\"info.log\"):\n",
    "    os.remove(r\"D:\\FSP\\FPS Client 0211\\FPS Client\\Project_FIRE-SP\\info.log\")\n",
    "    logging.basicConfig(filename=r\"D:\\FSP\\FPS Client 0211\\FPS Client\\Project_FIRE-SP\\info.log\", format='%(asctime)s %(message)s', filemode='w') \n",
    "    logger=logging.getLogger() \n",
    "    logger.setLevel(logging.DEBUG) \n",
    "else:\n",
    "    logging.basicConfig(filename=r\"D:\\FSP\\FPS Client 0211\\FPS Client\\Project_FIRE-SP\\info.log\", format='%(asctime)s %(message)s', filemode='w') \n",
    "    logger=logging.getLogger() \n",
    "    logger.setLevel(logging.DEBUG) \n"
   ]
  },
  {
   "cell_type": "markdown",
   "metadata": {},
   "source": [
    "## Reading Source Files"
   ]
  },
  {
   "cell_type": "code",
   "execution_count": 41,
   "metadata": {},
   "outputs": [],
   "source": [
    "try:\n",
    "    logger.info(\"File are Processing.....\")\n",
    "    \n",
    "    #ADB_data = pd.read_csv(r'D:\\FSP\\FPS Client 0211\\FPS Client\\Project_FIRE-SP\\Source\\Access DB Secure.csv',encoding='latin1')\n",
    "    ADB_data = pd.read_excel(r'D:\\FSP\\FPS Client 0211\\FPS Client\\Project_FIRE-SP\\Source\\Secur Export - 2020 12 03.xlsx')\n",
    "    #Metadata\n",
    "    Metadata = pd.read_excel(r'D:\\FSP\\Output.xlsx')\n",
    "    #Vista\n",
    "    VISTA_data=pd.ExcelFile(r'D:\\FSP\\FPS Client 0211\\FPS Client\\Source Files\\vistafile.xlsx')\n",
    "    #new_data=pd.ExcelFile(r'D:\\FSP\\FPS Client 0211\\FPS Client\\Project_FIRE-SP\\Source\\Secur Export - 2020 12 03.xlsx)\n",
    "    FnR = pd.read_csv(r'D:\\FSP\\FnR.csv')\n",
    "    logger.info(\"All the files Processed...\")\n",
    "except Exception as e:\n",
    "     logger.error(\"Error occured while processing files %s\" %e)"
   ]
  },
  {
   "cell_type": "markdown",
   "metadata": {},
   "source": [
    "## Filerting Data into Active and Inactive"
   ]
  },
  {
   "cell_type": "code",
   "execution_count": 42,
   "metadata": {},
   "outputs": [],
   "source": [
    "\n",
    "#Active Data\n",
    "data_Active = ADB_data[(ADB_data[\"IsActive\"] == True)]\n",
    "\n",
    "#In-Active Data\n",
    "data_InActive = ADB_data[ADB_data[\"IsActive\"] != True]\n",
    "\n"
   ]
  },
  {
   "cell_type": "markdown",
   "metadata": {},
   "source": [
    "## Function returns mapped customer code between Access and Vista"
   ]
  },
  {
   "cell_type": "code",
   "execution_count": 43,
   "metadata": {},
   "outputs": [],
   "source": [
    "\n",
    "def Mapping(df,dic):\n",
    "    new_var =[]\n",
    "#     print(df['Customer'])\n",
    "    for i in df['Customer']:\n",
    "#         print(i)\n",
    "        if i in dic.keys():\n",
    "            new_var.append(dic[i])\n",
    "        else:\n",
    "            new_var.append('NA')\n",
    "    return new_var\n",
    "\n"
   ]
  },
  {
   "cell_type": "markdown",
   "metadata": {},
   "source": [
    "## Function returns Un mapped customer code between Access and Vista"
   ]
  },
  {
   "cell_type": "code",
   "execution_count": 44,
   "metadata": {},
   "outputs": [],
   "source": [
    "def unMatched(df,dic):\n",
    "    unmatched =[]\n",
    "#     print(df['Customer'])\n",
    "    for i in df['Customer']:\n",
    "#         print(i)\n",
    "        if i in dic:\n",
    "#             print(i)\n",
    "            unmatched.append('NA')\n",
    "        else:\n",
    "            unmatched.append(i)\n",
    "    return unmatched\n",
    "\n"
   ]
  },
  {
   "cell_type": "markdown",
   "metadata": {},
   "source": [
    "## Gobal declaration for category"
   ]
  },
  {
   "cell_type": "code",
   "execution_count": 45,
   "metadata": {},
   "outputs": [],
   "source": [
    "Cat_L = [{1:['FP','HYD','BF','BFP','SPR','WET','DRY','TS','PRV','GLYCOL','STANDPIPE','BOOSTER','PREACTION','CURB_BOX']},\n",
    "         {2:['FA','CO','HD','SD','DS','LSA','MPS','EOL','FACP','SA','VOICE']},\n",
    "         {3:['FE','EL','FHC','FLCS','EXT','EXIT']},\n",
    "         {4:['SERVICES','INTRUSION','BURGULAR','EQUIPMENT','FIRE','ELEVATOR','FACP']}\n",
    "        ]\n",
    "Cat_K = {1:\"Sprinkler\",2:\"Fire Alarm\",3:\"Route\",4:\"Monitoring\"}"
   ]
  },
  {
   "cell_type": "markdown",
   "metadata": {},
   "source": [
    "## Effective date for AccessDB"
   ]
  },
  {
   "cell_type": "code",
   "execution_count": 46,
   "metadata": {},
   "outputs": [],
   "source": [
    "def effectivedate(data_Active1):\n",
    "    try:\n",
    "        logger.info(\"Processing of Effective date1 Started!!!!!!\")\n",
    "        list1=['JULY/AUGUST','NOVEMBER/DECEMBER']\n",
    "        list2=['JANUARY','APRIL','AUGUST','DECEMBER','FEBRUARY','JULY','JUNE','MARCH','MAY','NOVEMBER','OCTOBER','SEPTEMBER']\n",
    "        list3=['ANNUAL','MONTHLY','BI-MONTHLY','QUARTELY','WEEKLY','MONTHLY & MONITORING','MONTHLY QI ONLY','MONTHLY/QTLY','MONTHLY/QI','MONTHLY/WKLY']\n",
    "        list4=['Tender OCHRFQ17-001','Tender EJ196-190631','Tender EJ196-19063','BS Project P1239','Project #1208']\n",
    "        list5=['Tender-16-1257','Tender-19-1139','Tender-19-1140','AllardQ-2018','Q1535-1541Main2019']\n",
    "        data_Active1 = data_Active1[(data_Active1['Inspection Month'].str.len() > 0) & ~(data_Active1['Inspection Month'].isin(list1))]\n",
    "        data_Active1 = data_Active1[~(data_Active1['Inspection Quote #'].isin(list4))]\n",
    "        data_Active1['Inspection Quote2 #']= pd.to_datetime(data_Active1['Inspection Quote #'], errors='coerce').dt.strftime('%Y-%d-%b')\n",
    "        data_Active1['new']=''\n",
    "        x=[]\n",
    "\n",
    "        for i in range(0,len(data_Active1['Inspection Quote2 #'])):\n",
    "            if type(data_Active1['Inspection Quote2 #'].iloc[i])!=float:\n",
    "                data_Active1['Inspection Quote #'].iloc[i] = data_Active1['Inspection Quote2 #'].iloc[i]\n",
    "\n",
    "        data_Active1['Inspection Quote_new']=data_Active1['Inspection Quote #']\n",
    "        data_Active1 = data_Active1[(data_Active1['Inspection Quote #'].str.len() > 0)]\n",
    "\n",
    "        for i in range(0,len(data_Active1['Inspection Quote #'])):\n",
    "            if data_Active1['Inspection Quote #'].iloc[i] in list5:\n",
    "                data_Active1['Inspection Quote #'].iloc[i] = data_Active1['Inspection Quote #'].iloc[i].split('-')[1]\n",
    "                data_Active1['Inspection Quote #'].iloc[i]=data_Active1['Inspection Quote #'].iloc[i][-2:]\n",
    "\n",
    "            elif data_Active1['Inspection Quote #'].iloc[i]==\"See 2019 invoice\":\n",
    "\n",
    "                data_Active1['Inspection Quote #'].iloc[i] = data_Active1['Inspection Quote #'].iloc[i].split(' ')[1]\n",
    "    #             print(data_Active1['Inspection Quote #'].iloc[i])\n",
    "            else:\n",
    "                data_Active1['Inspection Quote #'].iloc[i] = data_Active1['Inspection Quote #'].iloc[i].split('-')[0]\n",
    "\n",
    "        data_Active1['Inspection Quote #'] = data_Active1['Inspection Quote #'].str[-2:]\n",
    "        df = pd.DataFrame()\n",
    "        df = data_Active1\n",
    "        df['my Month']=''\n",
    "\n",
    "        for i in range(0,len(df)):\n",
    "            if df['Inspection Month'].iloc[i] in list2:\n",
    "                df['my Month'].iloc[i] = df['Inspection Month'].iloc[i]+'/'+'01'+'/'+df['Inspection Quote #'].iloc[i]\n",
    "            elif df['Inspection Month'].iloc[i] in list3:\n",
    "                df['my Month'].iloc[i] = 'JANUARY'+'/'+'01'+'/'+df['Inspection Quote #'].iloc[i]\n",
    "        df['my Month'] = pd.to_datetime(df['my Month'], errors='coerce').dt.strftime('%m/%d/%Y')\n",
    "        result = df['my Month']\n",
    "        try:\n",
    "            logger.info(\"Processing of Effective date started!!!\")\n",
    "\n",
    "            df_date  = pd.to_datetime(result)\n",
    "            df_date['date'] = pd.to_datetime(df_date)\n",
    "\n",
    "            df_date[\"date\"] = df_date[\"date\"].map(lambda x: x.replace(year=2021))\n",
    "            df_date[\"date\"] = pd.to_datetime(df_date[\"date\"], errors='coerce').dt.strftime('%m/%d/%Y')\n",
    "            result1= df_date[\"date\"]\n",
    "\n",
    "            return  (result,result1)\n",
    "            logger.info(\"Succesfully generated Effective date and Effective date1\")\n",
    "        except:\n",
    "            logger.error(\"Error occured while processing of Effective date\")\n",
    "    except:\n",
    "        logger.error(\"Error occured while processing of Effective date1!!!!!!\")"
   ]
  },
  {
   "cell_type": "markdown",
   "metadata": {},
   "source": [
    "## Acronyms"
   ]
  },
  {
   "cell_type": "code",
   "execution_count": 47,
   "metadata": {},
   "outputs": [],
   "source": [
    "def MapDesc(data_Active):\n",
    "    data_Active['Description'] = data_Active['Description'].fillna(0)\n",
    "    fnl = []\n",
    "    temp2 = []\n",
    "    temp1 = ''\n",
    "    \n",
    "    for i in data_Active['Description']:\n",
    "        if i != 0:\n",
    "            temp2=[]\n",
    "            for j in range(0,len(Cat_L)):\n",
    "                temp1 = ''\n",
    "                for k in Cat_L[j][j+1]:\n",
    "                    flag = 0\n",
    "                    for l in str(i).split(' '):\n",
    "                        if k == l.strip():\n",
    "                            if Cat_K[j+1] not in temp1:\n",
    "                                temp1 = temp1 + Cat_K[j+1] +\"-\"+ str(l) + \",\"\n",
    "                            else:\n",
    "                                if str(l) not in temp1:\n",
    "                                    temp1 = temp1 + str(l) + \",\"\n",
    "                if temp1 != '':\n",
    "                    temp2.append(temp1[:-1])\n",
    "                else:\n",
    "                    temp2.append(1)\n",
    "            cnt = 0\n",
    "            for n in range(0,len(Cat_L)):\n",
    "                if temp2[n] ==1:\n",
    "                    cnt +=1\n",
    "            if cnt != len(Cat_L):\n",
    "                fnl.append(temp2)\n",
    "            else:\n",
    "                fnl.append(0)\n",
    "        else:\n",
    "            fnl.append(0)\n",
    "            \n",
    "    data_Active['descNew'] = fnl\n",
    "    #data_Active[['Description','descNew','Alt Agreement','Customer2']].to_csv(str(letter)+\"_Mapping.csv\")\n",
    "    data_Active['C_list'] = fnl\n",
    "    KMP_CL_F= (data_Active\n",
    "             .set_index(['Alt Agreement','Agreement Type '+'('+'Data Pull)','Customer','Customer2','Agreement Price','Customer PO','Service Site','Description','Effective Date','Original Date','Description1'])['C_list']\n",
    "             .apply(pd.Series)\n",
    "             .stack()\n",
    "             .reset_index()\n",
    "             #.drop('level_4', axis=1)\n",
    "             .rename(columns={0:'Desc'}))\n",
    "    KMP_CL_F = KMP_CL_F[KMP_CL_F['Desc'] !=1].reset_index()\n",
    "    for i in range(0,len(KMP_CL_F['Desc'])):\n",
    "        if KMP_CL_F['Desc'][i] == 0:\n",
    "            KMP_CL_F['Desc'][i] = KMP_CL_F['Description'][i]\n",
    "    KMP_CL_F['Desc'] = KMP_CL_F['Desc'].fillna('NA')\n",
    "    KMP_CL_F['Description1'] = KMP_CL_F['Desc'].str.split('-').str[1]\n",
    "    KMP_CL_F['Customer2'] = KMP_CL_F['Customer2'].apply(str)\n",
    "    KMP_CL_F['Cus-Desc'] = KMP_CL_F['Customer2'] + \"-\" + KMP_CL_F['Desc'].str.split('-').str[0]\n",
    "    return KMP_CL_F"
   ]
  },
  {
   "cell_type": "code",
   "execution_count": 48,
   "metadata": {},
   "outputs": [],
   "source": [
    "def dataClean(df):\n",
    "    var = []\n",
    "    df['DescriptionNew'] = df['Description']\n",
    "    for i in df['Description']:\n",
    "        var.append((re.sub(r'[^a-zA-Z| ]',r'',str(i))).strip())\n",
    "    df['Description'] = var\n",
    "    for i in range(0,len(FnR)):\n",
    "        df['Description'] = df['Description'].str.replace(FnR['Find'][i],FnR['Replace'][i])\n",
    "    return df['Description']"
   ]
  },
  {
   "cell_type": "markdown",
   "metadata": {},
   "source": [
    "## Active Export"
   ]
  },
  {
   "cell_type": "code",
   "execution_count": 49,
   "metadata": {},
   "outputs": [
    {
     "name": "stderr",
     "output_type": "stream",
     "text": [
      "C:\\Users\\sahitib\\Anaconda3\\lib\\site-packages\\pandas\\core\\indexing.py:670: SettingWithCopyWarning: \n",
      "A value is trying to be set on a copy of a slice from a DataFrame\n",
      "\n",
      "See the caveats in the documentation: https://pandas.pydata.org/pandas-docs/stable/user_guide/indexing.html#returning-a-view-versus-a-copy\n",
      "  iloc._setitem_with_indexer(indexer, value)\n",
      "C:\\Users\\sahitib\\Anaconda3\\lib\\site-packages\\pandas\\core\\indexing.py:670: SettingWithCopyWarning: \n",
      "A value is trying to be set on a copy of a slice from a DataFrame\n",
      "\n",
      "See the caveats in the documentation: https://pandas.pydata.org/pandas-docs/stable/user_guide/indexing.html#returning-a-view-versus-a-copy\n",
      "  iloc._setitem_with_indexer(indexer, value)\n"
     ]
    },
    {
     "name": "stdout",
     "output_type": "stream",
     "text": [
      "616\n"
     ]
    },
    {
     "name": "stderr",
     "output_type": "stream",
     "text": [
      "C:\\Users\\sahitib\\Anaconda3\\lib\\site-packages\\ipykernel_launcher.py:49: SettingWithCopyWarning: \n",
      "A value is trying to be set on a copy of a slice from a DataFrame\n",
      "\n",
      "See the caveats in the documentation: https://pandas.pydata.org/pandas-docs/stable/user_guide/indexing.html#returning-a-view-versus-a-copy\n"
     ]
    }
   ],
   "source": [
    "try:\n",
    "    logger.info(\"Export InActive Access DB file started!!!!!\")\n",
    "    output = pd.DataFrame(columns=list(Metadata['Output File1']))\n",
    "    output[['Alt Agreement','Agreement Type '+'('+'Data Pull)','Customer','Agreement Price','Customer PO','Service Site',\n",
    "            'Description']] = data_Active[['Inspection Quote #','Inspection Type','Legal Company Name','Price','PO#',\n",
    "                                          'Site Address','Fire Protection Equipment']]\n",
    "    output=output[(output['Description'].str.contains('cancelled')==False) & (output['Description'].str.contains('Cancelled')== False)]\n",
    "    output['Original Date'],output['Effective Date'] = effectivedate(data_Active)\n",
    "    output['Agreement Price'] = output['Agreement Price'].fillna(0)\n",
    "    DateColumns=list(Metadata['Output File1'])\n",
    "    lis =['Original Date','Effective Date']\n",
    "    VISTA =  pd.read_excel(VISTA_data,sheet_name='Sheet1')\n",
    "    CT_ED_Dic = dict(zip(VISTA['Name'], VISTA['Customer']))\n",
    "    output['Description'] = dataClean(output)\n",
    "    output['Customer1'] = Mapping(output,CT_ED_Dic)\n",
    "    output['Customer2']= output['Customer']\n",
    "    #output['UnMatched']= unMatched(output,CT_ED_Dic)\n",
    "    output['Customer']=output['Customer1']\n",
    "    print(len(output['Customer']!='NA'))\n",
    "    # temp = output\n",
    "    temp = MapDesc(output)\n",
    "    output1 = pd.DataFrame(columns=list(Metadata['Output File1']))\n",
    "    output1[['Alt Agreement','Agreement Type '+'('+'Data Pull)','Customer','Agreement Price','Customer PO','Service Site',\n",
    "             'Description','Effective Date','Original Date','Description1']] = temp[['Alt Agreement','Agreement Type '+'('+'Data Pull)','Customer',\n",
    "                                                      'Agreement Price','Customer PO','Service Site','Cus-Desc','Effective Date','Original Date',\n",
    "                                                                    'Description1']]\n",
    "    #output1[['Alt Agreement','Agreement Type '+'('+'Data Pull)','Customer','Agreement Price','Customer PO','Service Site','Description','Effective Date','Original Date']] = temp[['Alt Agreement','Agreement Type '+'('+'Data Pull)','Customer','Agreement Price','Customer PO','Service Site','Cus-Desc','Effective Date','Original Date']]\n",
    "    for i in DateColumns:\n",
    "        if (str(i).find('Date') != -1):\n",
    "            if str(i).startswith('Expiration'):\n",
    "                output1[i]= output1[i].fillna('01/01/2022')\n",
    "            if str(i) not in lis:\n",
    "                output1[i]= output1[i].fillna('01/01/2020')\n",
    "                output1[i]=  pd.to_datetime(output1[i], errors='coerce').dt.strftime('%m/%d/%Y')\n",
    "        elif str(i).find('Pricing') != -1:\n",
    "            output1[i]=output1['Pricing'].fillna('0')\n",
    "    output1.to_csv(r'D:\\FSP\\FPS Client 0211\\FPS Client\\Project_FIRE-SP\\Target\\Access\\Active_AccessDB.csv', index = False)\n",
    "    logger.info(\"Exporting of Active AccessDB file is successfull!!\")\n",
    "except Exception as e:\n",
    "    logger.error(\"Error occured while Exporting  Active Access DB file!!!!! %s\" %e)\n"
   ]
  },
  {
   "cell_type": "markdown",
   "metadata": {},
   "source": [
    "## In-Active Data"
   ]
  },
  {
   "cell_type": "code",
   "execution_count": 50,
   "metadata": {},
   "outputs": [
    {
     "name": "stderr",
     "output_type": "stream",
     "text": [
      "C:\\Users\\sahitib\\Anaconda3\\lib\\site-packages\\pandas\\core\\indexing.py:670: SettingWithCopyWarning: \n",
      "A value is trying to be set on a copy of a slice from a DataFrame\n",
      "\n",
      "See the caveats in the documentation: https://pandas.pydata.org/pandas-docs/stable/user_guide/indexing.html#returning-a-view-versus-a-copy\n",
      "  iloc._setitem_with_indexer(indexer, value)\n",
      "C:\\Users\\sahitib\\Anaconda3\\lib\\site-packages\\pandas\\core\\indexing.py:670: SettingWithCopyWarning: \n",
      "A value is trying to be set on a copy of a slice from a DataFrame\n",
      "\n",
      "See the caveats in the documentation: https://pandas.pydata.org/pandas-docs/stable/user_guide/indexing.html#returning-a-view-versus-a-copy\n",
      "  iloc._setitem_with_indexer(indexer, value)\n",
      "C:\\Users\\sahitib\\Anaconda3\\lib\\site-packages\\ipykernel_launcher.py:49: SettingWithCopyWarning: \n",
      "A value is trying to be set on a copy of a slice from a DataFrame\n",
      "\n",
      "See the caveats in the documentation: https://pandas.pydata.org/pandas-docs/stable/user_guide/indexing.html#returning-a-view-versus-a-copy\n"
     ]
    }
   ],
   "source": [
    "try:\n",
    "    logger.info(\"Export InActive Access DB file started!!!!!\")\n",
    "    output = pd.DataFrame(columns=list(Metadata['Output File1']))\n",
    "    output[['Alt Agreement','Agreement Type '+'('+'Data Pull)','Customer','Agreement Price','Customer PO','Service Site','Description']] = data_InActive[['Inspection Quote #','Inspection Type','Legal Company Name','Price','PO#','Site Address','Fire Protection Equipment']]\n",
    "    output=output[(output['Description'].str.contains('cancelled')==False) & (output['Description'].str.contains('Cancelled')== False)]\n",
    "    output['Original Date'],output['Effective Date'] = effectivedate(data_InActive)\n",
    "    output['Agreement Price'] = output['Agreement Price'].fillna(0)\n",
    "    DateColumns=list(Metadata['Output File1'])\n",
    "    lis =['Original Date','Effective Date']\n",
    "    VISTA =  pd.read_excel(VISTA_data,sheet_name='Sheet1')\n",
    "    CT_ED_Dic = dict(zip(VISTA['Name'], VISTA['Customer']))\n",
    "    output['Description'] = dataClean(output)\n",
    "    output['Customer1'] = Mapping(output,CT_ED_Dic)\n",
    "    output['Customer2']= output['Customer']\n",
    "    #output['UnMatched']= unMatched(output,CT_ED_Dic)\n",
    "    output['Customer']=output['Customer1']\n",
    "    # temp = output\n",
    "    temp = MapDesc(output)\n",
    "    output1 = pd.DataFrame(columns=list(Metadata['Output File1']))\n",
    "    output1[['Alt Agreement','Agreement Type '+'('+'Data Pull)','Customer','Agreement Price','Customer PO','Service Site',\n",
    "         'Description','Effective Date','Original Date','Description1']] = temp[['Alt Agreement','Agreement Type '+'('+'Data Pull)','Customer',\n",
    "                                                  'Agreement Price','Customer PO','Service Site','Cus-Desc','Effective Date','Original Date',\n",
    "                                                                'Description1']]\n",
    "    for i in DateColumns:\n",
    "        if (str(i).find('Date') != -1):\n",
    "            if str(i).startswith('Expiration'):\n",
    "                output1[i]= output1[i].fillna('01/01/2022')\n",
    "            if str(i) not in lis:\n",
    "                output1[i]= output1[i].fillna('01/01/2020')\n",
    "                output1[i]=  pd.to_datetime(output1[i], errors='coerce').dt.strftime('%m/%d/%Y')\n",
    "        elif str(i).find('Pricing') != -1:\n",
    "            output1[i]=output1['Pricing'].fillna('0')\n",
    "    output1.to_csv(r'D:\\FSP\\FPS Client 0211\\FPS Client\\Project_FIRE-SP\\Target\\Access\\InActive_AccessDB.csv', index = False)\n",
    "    logger.info(\"Exporting of InActive AccessDB file is successfull!!\")\n",
    "except Exception as e:\n",
    "    logger.error(\"Error occured while Exporting  InActive Access DB file!!!!! %s\" %e)\n"
   ]
  },
  {
   "cell_type": "code",
   "execution_count": 17,
   "metadata": {},
   "outputs": [],
   "source": [
    "\n"
   ]
  },
  {
   "cell_type": "code",
   "execution_count": null,
   "metadata": {},
   "outputs": [],
   "source": []
  },
  {
   "cell_type": "code",
   "execution_count": null,
   "metadata": {},
   "outputs": [],
   "source": []
  }
 ],
 "metadata": {
  "kernelspec": {
   "display_name": "Python 3",
   "language": "python",
   "name": "python3"
  },
  "language_info": {
   "codemirror_mode": {
    "name": "ipython",
    "version": 3
   },
   "file_extension": ".py",
   "mimetype": "text/x-python",
   "name": "python",
   "nbconvert_exporter": "python",
   "pygments_lexer": "ipython3",
   "version": "3.7.6"
  }
 },
 "nbformat": 4,
 "nbformat_minor": 2
}
