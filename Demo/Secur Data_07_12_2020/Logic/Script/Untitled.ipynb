{
 "cells": [
  {
   "cell_type": "code",
   "execution_count": 4,
   "metadata": {},
   "outputs": [
    {
     "name": "stdout",
     "output_type": "stream",
     "text": [
      "A_AccessDB.csv\n",
      "Index(['Added Field - Active?', 'Field', 'Agreement #', 'Description',\n",
      "       'Alt Agreement', 'Agreement Type (Data Pull)',\n",
      "       'Agreement Type (For Entry)', 'Customer', 'Customer PO',\n",
      "       'Effective Date', 'Original Date', 'Expiration Date', 'Renew Through',\n",
      "       'Renew Markup', 'Rate Template', 'Agreement Price',\n",
      "       'Revenue Recognition', 'Auto Schedule Trips', '0', 'Seq1',\n",
      "       'Description1', 'Service Site', 'Call Type', 'Service Center',\n",
      "       'Division', 'Tax Source', 'Separate Work Order', 'Auto Schedule Trip1',\n",
      "       'Pricing', 'Contact Before Scheduling', 'Auto Schedule Trip', 'Due',\n",
      "       'RecurringPatternType', 'See recurring options in screenshot >',\n",
      "       'Billing Seq1', 'Date1', 'Billing Amount1', 'Tax Type1', 'Tax Basis1',\n",
      "       'Seq2', 'Material', 'UM', 'Matl Qty', 'Cost ECM', 'Seq', 'Qty',\n",
      "       'Deferral1', 'Date2', 'Amount1', '0.1', 'Billing Seq', 'Date3',\n",
      "       'Billing Amount', 'Tax Type', 'Tax Code', 'Tax Basis', 'Tax Amount',\n",
      "       '0.2', 'Deferral', 'Date', 'Amount',\n",
      "       'Should auto-populate based on Work Schedule.'],\n",
      "      dtype='object')\n",
      "A_KMP_NON_OCH.csv\n",
      "Index(['Added Field - Active?', 'Field', 'Agreement #', 'Description',\n",
      "       'Alt Agreement', 'Agreement Type (Data Pull)',\n",
      "       'Agreement Type (For Entry)', 'Customer', 'Customer PO',\n",
      "       'Effective Date', 'Original Date', 'Expiration Date', 'Renew Through',\n",
      "       'Renew Markup', 'Rate Template', 'Agreement Price',\n",
      "       'Revenue Recognition', 'Auto Schedule Trips', '0', 'Seq1',\n",
      "       'Description1', 'Service Site', 'Call Type', 'Service Center',\n",
      "       'Division', 'Tax Source', 'Separate Work Order', 'Auto Schedule Trip1',\n",
      "       'Pricing', 'Contact Before Scheduling', 'Auto Schedule Trip', 'Due',\n",
      "       'RecurringPatternType', 'See recurring options in screenshot >',\n",
      "       'Billing Seq1', 'Date1', 'Billing Amount1', 'Tax Type1', 'Tax Basis1',\n",
      "       'Seq2', 'Material', 'UM', 'Matl Qty', 'Cost ECM', 'Seq', 'Qty',\n",
      "       'Deferral1', 'Date2', 'Amount1', '0.1', 'Billing Seq', 'Date3',\n",
      "       'Billing Amount', 'Tax Type', 'Tax Code', 'Tax Basis', 'Tax Amount',\n",
      "       '0.2', 'Deferral', 'Date', 'Amount',\n",
      "       'Should auto-populate based on Work Schedule.'],\n",
      "      dtype='object')\n",
      "A_KMP_OCH.csv\n",
      "Index(['Added Field - Active?', 'Field', 'Agreement #', 'Description',\n",
      "       'Alt Agreement', 'Agreement Type (Data Pull)',\n",
      "       'Agreement Type (For Entry)', 'Customer', 'Customer PO',\n",
      "       'Effective Date', 'Original Date', 'Expiration Date', 'Renew Through',\n",
      "       'Renew Markup', 'Rate Template', 'Agreement Price',\n",
      "       'Revenue Recognition', 'Auto Schedule Trips', '0', 'Seq1',\n",
      "       'Description1', 'Service Site', 'Call Type', 'Service Center',\n",
      "       'Division', 'Tax Source', 'Separate Work Order', 'Auto Schedule Trip1',\n",
      "       'Pricing', 'Contact Before Scheduling', 'Auto Schedule Trip', 'Due',\n",
      "       'RecurringPatternType', 'See recurring options in screenshot >',\n",
      "       'Billing Seq1', 'Date1', 'Billing Amount1', 'Tax Type1', 'Tax Basis1',\n",
      "       'Seq2', 'Material', 'UM', 'Matl Qty', 'Cost ECM', 'Seq', 'Qty',\n",
      "       'Deferral1', 'Date2', 'Amount1', '0.1', 'Billing Seq', 'Date3',\n",
      "       'Billing Amount', 'Tax Type', 'Tax Code', 'Tax Basis', 'Tax Amount',\n",
      "       '0.2', 'Deferral', 'Date', 'Amount',\n",
      "       'Should auto-populate based on Work Schedule.'],\n",
      "      dtype='object')\n"
     ]
    }
   ],
   "source": [
    "import os\n",
    "import pandas as pd\n",
    "import datetime\n",
    "from param import *\n",
    "\n",
    "#------------------------- Path --------------------------------------------\n",
    "path= basepath+\"Target\"\n",
    "ConPath = path+\"/Consolidated\"\n",
    "#------------------------ Calling folder -----------------------------------\n",
    "set_folder = os.listdir(path)\n",
    "Active_con = []\n",
    "for folder in set_folder:\n",
    "    set_file = path+\"/\"+folder\n",
    "    for file in os.listdir(set_file):\n",
    "        if file.split(\"_\")[0] =='A':\n",
    "            print(file)\n",
    "            print(pd.read_csv(set_file+\"/\"+file).columns)\n",
    "            Active_con.append(pd.read_csv(set_file+\"/\"+file))\n",
    "df = pd.concat(Active_con, axis=0, sort=False)\n",
    "df.to_csv(ConPath+\"/\"+\"Active_KMP_AccessDB.csv\", index=False)"
   ]
  },
  {
   "cell_type": "code",
   "execution_count": null,
   "metadata": {},
   "outputs": [],
   "source": []
  }
 ],
 "metadata": {
  "kernelspec": {
   "display_name": "Python 3",
   "language": "python",
   "name": "python3"
  },
  "language_info": {
   "codemirror_mode": {
    "name": "ipython",
    "version": 3
   },
   "file_extension": ".py",
   "mimetype": "text/x-python",
   "name": "python",
   "nbconvert_exporter": "python",
   "pygments_lexer": "ipython3",
   "version": "3.6.5"
  }
 },
 "nbformat": 4,
 "nbformat_minor": 2
}
